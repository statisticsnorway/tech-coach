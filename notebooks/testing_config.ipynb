{
 "cells": [
  {
   "cell_type": "code",
   "execution_count": null,
   "id": "71fddca0-cec6-4eea-b72e-ee567666d5f8",
   "metadata": {},
   "outputs": [],
   "source": [
    "%run ~/tech-coach/src/settings.py\n",
    "%run ~/tech-coach/notebooks/test_config.py\n",
    "\n",
    "from pyspark.sql import SparkSession\n",
    "from functions import func"
   ]
  },
  {
   "cell_type": "code",
   "execution_count": null,
   "id": "fedee2e9-f4b9-4e1a-ad40-32eb4b450d2f",
   "metadata": {},
   "outputs": [],
   "source": [
    "func.use_virtualenv_in_pyspark()\n",
    "spark = SparkSession.builder.getOrCreate()"
   ]
  },
  {
   "cell_type": "code",
   "execution_count": null,
   "id": "9422f798-a0b6-4a1f-b146-290c57f16feb",
   "metadata": {},
   "outputs": [],
   "source": [
    "KILDE_PATH"
   ]
  },
  {
   "cell_type": "code",
   "execution_count": null,
   "id": "ec420820-7048-4cdd-8de0-64efb8eb0a47",
   "metadata": {},
   "outputs": [],
   "source": [
    "INNDATA_PATH"
   ]
  },
  {
   "cell_type": "code",
   "execution_count": null,
   "id": "90b2db12-cb79-4834-9431-a494343e1a38",
   "metadata": {},
   "outputs": [],
   "source": [
    "KLARGJORT_PATH"
   ]
  },
  {
   "cell_type": "code",
   "execution_count": null,
   "id": "d1170f70-e044-4e35-93f6-58a2c41eb63d",
   "metadata": {},
   "outputs": [],
   "source": [
    "TVERRSNITT_PATH"
   ]
  },
  {
   "cell_type": "code",
   "execution_count": null,
   "id": "ec55f1a3-8f06-4b9c-89ee-f9d6905e56dc",
   "metadata": {},
   "outputs": [],
   "source": [
    "import random\n",
    "import pyspark.pandas as ps"
   ]
  },
  {
   "cell_type": "code",
   "execution_count": null,
   "id": "1c2975ac-1082-4a46-bf3f-2f4d65b6d48c",
   "metadata": {
    "tags": []
   },
   "outputs": [],
   "source": [
    "# Angi antall husholdninger og antall personer per husholdning\n",
    "x = 23\n",
    "y = 5\n",
    "\n",
    "random.seed(200)\n",
    "\n",
    "# Opprett en tom liste for å lagre dataene\n",
    "data = []\n",
    "\n",
    "# Loop gjennom husholdningene\n",
    "for i in range(1, x + 1):\n",
    "    hh_id = i\n",
    "    region = random.randint(1, 5)\n",
    "    # Loop gjennom personene i hver husholdning\n",
    "    for j in range(1, random.randint(1, y) + 1):\n",
    "        person_id = j\n",
    "        kjonn = random.randint(1, 2)\n",
    "        alder = random.randint(1, 90)\n",
    "        # Generer inntekt basert på alder\n",
    "        if 18 <= alder <= 67:\n",
    "            inntekt = random.randint(400000, 1000000)\n",
    "        else:\n",
    "            inntekt = None\n",
    "        # Legg til dataene i listen\n",
    "        data.append([hh_id, region, person_id, kjonn, alder, inntekt])\n",
    "\n",
    "# Konverter listen til en Pandas DataFrame\n",
    "test = ps.DataFrame(\n",
    "    data, columns=[\"hh_id\", \"region\", \"person_id\", \"kjonn\", \"alder\", \"inntekt\"]\n",
    ")  # .set_index('hh_id')"
   ]
  },
  {
   "cell_type": "code",
   "execution_count": null,
   "id": "d1ffa45a-0cc7-41c2-a5f6-25cc7f025a15",
   "metadata": {
    "tags": []
   },
   "outputs": [],
   "source": [
    "test.head(5)"
   ]
  },
  {
   "cell_type": "code",
   "execution_count": null,
   "id": "59c5ef1f-1825-4525-b277-792bb92d12be",
   "metadata": {
    "tags": []
   },
   "outputs": [],
   "source": [
    "personer.info()"
   ]
  },
  {
   "cell_type": "code",
   "execution_count": null,
   "id": "9a5d5e0c-eb13-4ecc-bc5a-367c87f978e8",
   "metadata": {
    "tags": []
   },
   "outputs": [],
   "source": [
    "# personer.select(\"*\").write.format(\"parquet\").mode(\"overwrite\").save(\n",
    "#     f\"{INNDATA_PATH}/personer_inntekt2_p{gen}_{versjon}.parquet\"\n",
    "# )\n",
    "\n",
    "test.to_parquet(f\"{INNDATA_PATH}/testsett_p{gen}_{versjon}\")"
   ]
  },
  {
   "cell_type": "code",
   "execution_count": null,
   "id": "84bdde25-8705-4063-8b58-6c51f3a7c7c6",
   "metadata": {
    "tags": []
   },
   "outputs": [],
   "source": [
    "import dapla as dp\n",
    "\n",
    "df_alle_partisjoner = dp.read_pandas(f\"{INNDATA_PATH}/testsett_p{gen}_{versjon}\")"
   ]
  },
  {
   "cell_type": "code",
   "execution_count": null,
   "id": "704f57fe-c94a-440d-8990-c28c9db2c7b6",
   "metadata": {
    "tags": []
   },
   "outputs": [],
   "source": [
    "df_alle_partisjoner.head()"
   ]
  },
  {
   "cell_type": "code",
   "execution_count": null,
   "id": "640531f3-cdb0-4d17-a525-1678abe888ae",
   "metadata": {},
   "outputs": [],
   "source": []
  },
  {
   "cell_type": "code",
   "execution_count": null,
   "id": "7b919647-c76b-4b43-bd54-e0132611fc6b",
   "metadata": {},
   "outputs": [],
   "source": []
  },
  {
   "cell_type": "code",
   "execution_count": null,
   "id": "efd6ad69-00b2-4ef8-8646-e6566b98455d",
   "metadata": {},
   "outputs": [],
   "source": [
    "# fake en innsamling\n",
    "personer.to_parquet(f\"{KILDE_PATH}/personer_inntekt_p{gen}_{versjon}.parquet\")"
   ]
  },
  {
   "cell_type": "code",
   "execution_count": null,
   "id": "d33eb68e-2ee2-4e99-82fb-f398fe551a37",
   "metadata": {},
   "outputs": [],
   "source": [
    "# df = spark.read.parquet(INNDATA_NAERINGSSPESIFIKASJON)\n",
    "df_spark = spark.read.parquet(f\"{KILDE_PATH}/personer_inntekt_p{gen}_{versjon}.parquet\")"
   ]
  },
  {
   "cell_type": "code",
   "execution_count": null,
   "id": "cf7a5d88-b085-408f-bcac-0b8d5daf5f89",
   "metadata": {},
   "outputs": [],
   "source": [
    "df_spark.head(2)"
   ]
  },
  {
   "cell_type": "code",
   "execution_count": null,
   "id": "d8126662-e5e8-47c8-bb99-5a96e3c30de7",
   "metadata": {},
   "outputs": [],
   "source": [
    "df_ps_default_indeks = ps.read_parquet(\n",
    "    f\"{KILDE_PATH}/personer_inntekt_p{gen}_{versjon}.parquet\"\n",
    ")"
   ]
  },
  {
   "cell_type": "code",
   "execution_count": null,
   "id": "c6d80668-633d-4b84-8dc1-47e615e253a4",
   "metadata": {},
   "outputs": [],
   "source": [
    "df_ps_default_indeks.head(2)"
   ]
  },
  {
   "cell_type": "code",
   "execution_count": null,
   "id": "514964b6-d2f3-4006-803e-811a68269c42",
   "metadata": {},
   "outputs": [],
   "source": [
    "df_ps_egen_indeks = ps.read_parquet(\n",
    "    f\"{KILDE_PATH}/personer_inntekt_p{gen}_{versjon}.parquet\"\n",
    ").set_index(\"hh_id\")"
   ]
  },
  {
   "cell_type": "code",
   "execution_count": null,
   "id": "3347de3e-e81e-405a-9f64-43ac496594ce",
   "metadata": {},
   "outputs": [],
   "source": [
    "df_ps_egen_indeks.head(10)  # tullete da den ikke er unik"
   ]
  },
  {
   "cell_type": "code",
   "execution_count": null,
   "id": "e35297e6-e7ff-43de-a9d5-c2c951b6cd3c",
   "metadata": {},
   "outputs": [],
   "source": [
    "# # Les temaer\n",
    "# for tema in temaer:\n",
    "#     d[tema] = ps.read_parquet(\n",
    "#         f'{KLARGJOERING_PATH}/{STATISTIKK}/{tema}.parquet'\n",
    "#     ).set_index('personidentifikator')"
   ]
  },
  {
   "cell_type": "code",
   "execution_count": null,
   "id": "1166fc38-28a3-40f3-8aaf-1bdfb7c297b9",
   "metadata": {},
   "outputs": [],
   "source": [
    "print(f\"{INNDATA_PATH}/personer_inntekt_p{gen}_{versjon}.parquet\")"
   ]
  },
  {
   "cell_type": "code",
   "execution_count": null,
   "id": "4d354647-ab59-46b2-9b4e-832a2560eae6",
   "metadata": {},
   "outputs": [],
   "source": [
    "personer.to_parquet(f\"{INNDATA_PATH}/personer_inntekt2_p{gen}_{versjon}.parquet\")"
   ]
  },
  {
   "cell_type": "code",
   "execution_count": null,
   "id": "e0cf554f-312c-4c04-8995-aa589656f1cb",
   "metadata": {},
   "outputs": [],
   "source": [
    "# df = spark.read.parquet(INNDATA_NAERINGSSPESIFIKASJON)\n",
    "df = spark.read.parquet(f\"{INNDATA_PATH}/personer_inntekt2_p{gen}_{versjon}.parquet\")"
   ]
  },
  {
   "cell_type": "code",
   "execution_count": null,
   "id": "63acb2fe-f789-4460-ab11-5ef913ee0582",
   "metadata": {},
   "outputs": [],
   "source": [
    "df.head()"
   ]
  },
  {
   "cell_type": "code",
   "execution_count": null,
   "id": "344a5b85-fc5c-4a7c-ac01-dfd9f56e3426",
   "metadata": {},
   "outputs": [],
   "source": [
    "df.select(\"*\").write.format(\"parquet\").mode(\"overwrite\").save(\n",
    "    f\"{INNDATA_PATH}/personer_inntekt1_p{gen}_{versjon}.parquet\"\n",
    ")"
   ]
  },
  {
   "cell_type": "code",
   "execution_count": null,
   "id": "37a77a2b-d0a6-452b-8f5d-3048c42a71ae",
   "metadata": {},
   "outputs": [],
   "source": [
    "from pyspark.sql import SparkSession"
   ]
  },
  {
   "cell_type": "code",
   "execution_count": null,
   "id": "7fd7fd6d-8915-43fa-a244-046c9675ca0d",
   "metadata": {},
   "outputs": [],
   "source": [
    "spark.read.parquet(\n",
    "    f\"{INNDATA_PATH}/personer_inntekt2_p{gen}_{versjon}.parquet\"\n",
    ").createOrReplaceTempView(\"pers\")"
   ]
  },
  {
   "cell_type": "code",
   "execution_count": null,
   "id": "899d0aef-0211-4e5b-8729-0de8801024f2",
   "metadata": {},
   "outputs": [],
   "source": [
    "df1 = spark.sql(\n",
    "    \"\"\"\n",
    "    SELECT *\n",
    "    FROM\n",
    "        pers\n",
    "\"\"\"\n",
    ").to_pandas_on_spark()"
   ]
  },
  {
   "cell_type": "code",
   "execution_count": null,
   "id": "3f070111-b9d1-47b2-b38c-4f93acefc0fb",
   "metadata": {
    "jupyter": {
     "outputs_hidden": true
    },
    "tags": []
   },
   "outputs": [],
   "source": [
    "df1"
   ]
  },
  {
   "cell_type": "code",
   "execution_count": null,
   "id": "1fe8e39d-73f0-47a3-849f-d35699f8e956",
   "metadata": {},
   "outputs": [],
   "source": [
    "print('f\"{KILDE_PATH}/personer_inntekt_p{gen}_{versjon}.parquet\"')"
   ]
  },
  {
   "cell_type": "code",
   "execution_count": null,
   "id": "be257115-0e68-4cec-bd62-c322620d730b",
   "metadata": {},
   "outputs": [],
   "source": [
    "import dapla as dp\n",
    "\n",
    "df_alle_partisjoner = dp.read_pandas(\n",
    "    f\"{KILDE_PATH}/personer_inntekt_p{gen}_{versjon}.parquet\"\n",
    ")"
   ]
  },
  {
   "cell_type": "code",
   "execution_count": null,
   "id": "97bde71d-36fb-431d-8281-ebd20ce6350e",
   "metadata": {},
   "outputs": [],
   "source": []
  }
 ],
 "metadata": {
  "language_info": {
   "codemirror_mode": {
    "name": "ipython"
   },
   "file_extension": ".py",
   "mimetype": "text/x-python",
   "name": "python",
   "nbconvert_exporter": "python"
  }
 },
 "nbformat": 4,
 "nbformat_minor": 5
}
