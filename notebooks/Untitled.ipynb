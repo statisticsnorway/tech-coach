{
 "cells": [
  {
   "cell_type": "code",
   "execution_count": null,
   "id": "71fddca0-cec6-4eea-b72e-ee567666d5f8",
   "metadata": {},
   "outputs": [],
   "source": [
    "%run ~/tech-coach/src/settings.py\n",
    "%run ~/tech-coach/notebooks/test_config.py\n",
    "\n",
    "from pyspark.sql import SparkSession\n",
    "from functions import func"
   ]
  },
  {
   "cell_type": "code",
   "execution_count": null,
   "id": "fedee2e9-f4b9-4e1a-ad40-32eb4b450d2f",
   "metadata": {},
   "outputs": [],
   "source": [
    "func.use_virtualenv_in_pyspark()\n",
    "spark = SparkSession.builder.getOrCreate()"
   ]
  },
  {
   "cell_type": "code",
   "execution_count": null,
   "id": "ec420820-7048-4cdd-8de0-64efb8eb0a47",
   "metadata": {},
   "outputs": [],
   "source": [
    "INNDATA_PATH"
   ]
  },
  {
   "cell_type": "code",
   "execution_count": null,
   "id": "90b2db12-cb79-4834-9431-a494343e1a38",
   "metadata": {},
   "outputs": [],
   "source": [
    "KLARGJORT_PATH"
   ]
  },
  {
   "cell_type": "code",
   "execution_count": null,
   "id": "d1170f70-e044-4e35-93f6-58a2c41eb63d",
   "metadata": {},
   "outputs": [],
   "source": [
    "TVERRSNITT_PATH"
   ]
  },
  {
   "cell_type": "code",
   "execution_count": null,
   "id": "ec55f1a3-8f06-4b9c-89ee-f9d6905e56dc",
   "metadata": {},
   "outputs": [],
   "source": []
  }
 ],
 "metadata": {
  "language_info": {
   "codemirror_mode": {
    "name": "ipython"
   },
   "file_extension": ".py",
   "mimetype": "text/x-python",
   "name": "python",
   "nbconvert_exporter": "python"
  }
 },
 "nbformat": 4,
 "nbformat_minor": 5
}
