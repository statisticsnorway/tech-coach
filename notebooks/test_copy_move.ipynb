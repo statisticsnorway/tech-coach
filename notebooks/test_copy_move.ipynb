{
 "cells": [
  {
   "cell_type": "code",
   "execution_count": null,
   "id": "a648d0f1-ff78-426c-950a-512e1ed8e23e",
   "metadata": {
    "tags": []
   },
   "outputs": [],
   "source": [
    "import dapla as dp\n",
    "from dapla import FileClient\n",
    "\n",
    "fc = FileClient.get_gcs_file_system()"
   ]
  },
  {
   "cell_type": "code",
   "execution_count": null,
   "id": "f14ca7f8-b94d-4216-912f-13b2e3d6fa9a",
   "metadata": {
    "tags": []
   },
   "outputs": [],
   "source": [
    "from_bucket = f\"gs://ssb-prod-tech-coach-data-produkt\"\n",
    "fra_path = f\"{from_bucket}/kilde1_data/inndata/g2023/\"\n",
    "fra_fil = f\"{fra_path}testsett_p2021_v1\"\n",
    "\n",
    "til_path_mv = f\"{from_bucket}/kilde1_data/inndata/test_move/\"\n",
    "til_path_copy = f\"{from_bucket}/kilde1_data/inndata/test_copy/\"\n",
    "til_fil = f\"{til_path_copy}personer_inntekt1_p2021_v1.parquet\""
   ]
  },
  {
   "cell_type": "code",
   "execution_count": null,
   "id": "8821a692-b28d-478e-b2c0-b0ca4f5bad39",
   "metadata": {
    "tags": []
   },
   "outputs": [],
   "source": [
    "fra_fil"
   ]
  },
  {
   "cell_type": "code",
   "execution_count": null,
   "id": "9146e0d4-1244-4c29-9c08-b65f4f428b79",
   "metadata": {
    "tags": []
   },
   "outputs": [],
   "source": [
    "til_fil"
   ]
  },
  {
   "cell_type": "code",
   "execution_count": null,
   "id": "a545d065-aac3-4b5d-91a0-6cdd5351ba3c",
   "metadata": {
    "tags": []
   },
   "outputs": [],
   "source": [
    "# liste opp filer\n",
    "FileClient.ls(f\"{fra_path}\")\n",
    "# fc.ls(f\"{fra_path}\", detail = True)"
   ]
  },
  {
   "cell_type": "code",
   "execution_count": null,
   "id": "e1ed7d4d-cde1-4824-9631-4d457f388d8a",
   "metadata": {
    "tags": []
   },
   "outputs": [],
   "source": [
    "# liste opp filer\n",
    "FileClient.ls(f\"{til_path_copy}\")\n",
    "# fc.ls(f\"{fra_path}\", detail = True)"
   ]
  },
  {
   "cell_type": "code",
   "execution_count": null,
   "id": "3d704e6e-314f-4101-99ed-42dae89bcef1",
   "metadata": {
    "tags": []
   },
   "outputs": [],
   "source": [
    "# liste opp filer\n",
    "FileClient.ls(f\"{til_path_copy}\")\n",
    "# fc.ls(f\"{fra_path}\", detail = True)"
   ]
  },
  {
   "cell_type": "code",
   "execution_count": null,
   "id": "cfd8f138-4a5c-4e51-ba84-501ddb6efc73",
   "metadata": {
    "tags": []
   },
   "outputs": [],
   "source": [
    "# Copy file\n",
    "fc.copy(f\"{fra_fil}\", f\"{til_fil}\", recursive=True)"
   ]
  },
  {
   "cell_type": "code",
   "execution_count": null,
   "id": "044e57b6-9ebe-4e85-b536-fc99cdfe3daa",
   "metadata": {
    "tags": []
   },
   "outputs": [],
   "source": [
    "# Copy mange filer\n",
    "fc.copy(f\"{fra_path}\", f\"{til_path_copy}\", recursive=True)"
   ]
  },
  {
   "cell_type": "code",
   "execution_count": null,
   "id": "1b9c75ef-1f75-4ed1-9820-9f57ebf50175",
   "metadata": {
    "tags": []
   },
   "outputs": [],
   "source": [
    "# Flytt fil\n",
    "# fc.mv(f\"{fra_path}\", f\"{til_path_mv}\",recursive=True)"
   ]
  },
  {
   "cell_type": "code",
   "execution_count": null,
   "id": "a85e017b-827f-41a9-99b1-a5bd7f306181",
   "metadata": {},
   "outputs": [],
   "source": []
  }
 ],
 "metadata": {
  "language_info": {
   "codemirror_mode": {
    "name": "ipython"
   },
   "file_extension": ".py",
   "mimetype": "text/x-python",
   "name": "python",
   "nbconvert_exporter": "python"
  }
 },
 "nbformat": 4,
 "nbformat_minor": 5
}
