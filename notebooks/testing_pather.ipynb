{
 "cells": [
  {
   "cell_type": "code",
   "execution_count": null,
   "id": "71fddca0-cec6-4eea-b72e-ee567666d5f8",
   "metadata": {
    "tags": []
   },
   "outputs": [],
   "source": [
    "%run ~/tech-coach/src/settings.py\n",
    "%run ~/tech-coach/notebooks/test_config.py\n",
    "\n",
    "from pyspark.sql import SparkSession\n",
    "from functions import func"
   ]
  },
  {
   "cell_type": "code",
   "execution_count": null,
   "id": "fedee2e9-f4b9-4e1a-ad40-32eb4b450d2f",
   "metadata": {
    "tags": []
   },
   "outputs": [],
   "source": [
    "func.use_virtualenv_in_pyspark()\n",
    "spark = SparkSession.builder.getOrCreate()"
   ]
  },
  {
   "cell_type": "code",
   "execution_count": null,
   "id": "9422f798-a0b6-4a1f-b146-290c57f16feb",
   "metadata": {
    "tags": []
   },
   "outputs": [],
   "source": [
    "KILDE_PATH"
   ]
  },
  {
   "cell_type": "code",
   "execution_count": null,
   "id": "ec420820-7048-4cdd-8de0-64efb8eb0a47",
   "metadata": {
    "tags": []
   },
   "outputs": [],
   "source": [
    "INNDATA_PATH"
   ]
  },
  {
   "cell_type": "code",
   "execution_count": null,
   "id": "90b2db12-cb79-4834-9431-a494343e1a38",
   "metadata": {
    "tags": []
   },
   "outputs": [],
   "source": [
    "KLARGJORT_PATH"
   ]
  },
  {
   "cell_type": "code",
   "execution_count": null,
   "id": "d1170f70-e044-4e35-93f6-58a2c41eb63d",
   "metadata": {
    "tags": []
   },
   "outputs": [],
   "source": [
    "TVERRSNITT_PATH"
   ]
  },
  {
   "cell_type": "code",
   "execution_count": null,
   "id": "ec55f1a3-8f06-4b9c-89ee-f9d6905e56dc",
   "metadata": {
    "tags": []
   },
   "outputs": [],
   "source": [
    "import random\n",
    "\n",
    "# import pyspark.pandas as ps"
   ]
  },
  {
   "cell_type": "code",
   "execution_count": null,
   "id": "1c2975ac-1082-4a46-bf3f-2f4d65b6d48c",
   "metadata": {
    "tags": []
   },
   "outputs": [],
   "source": [
    "# Angi antall husholdninger og antall personer per husholdning\n",
    "x = 23\n",
    "y = 5\n",
    "\n",
    "random.seed(200)\n",
    "\n",
    "# Opprett en tom liste for å lagre dataene\n",
    "data = []\n",
    "\n",
    "# Loop gjennom husholdningene\n",
    "for i in range(1, x + 1):\n",
    "    hh_id = i\n",
    "    region = random.randint(1, 5)\n",
    "    # Loop gjennom personene i hver husholdning\n",
    "    for j in range(1, random.randint(1, y) + 1):\n",
    "        person_id = j\n",
    "        kjonn = random.randint(1, 2)\n",
    "        alder = random.randint(1, 90)\n",
    "        # Generer inntekt basert på alder\n",
    "        if 18 <= alder <= 67:\n",
    "            inntekt = random.randint(400000, 1000000)\n",
    "        else:\n",
    "            inntekt = None\n",
    "        # Legg til dataene i listen\n",
    "        data.append([hh_id, region, person_id, kjonn, alder, inntekt])\n",
    "\n",
    "# Konverter listen til en Pandas DataFrame\n",
    "test = ps.DataFrame(\n",
    "    data, columns=[\"hh_id\", \"region\", \"person_id\", \"kjonn\", \"alder\", \"inntekt\"]\n",
    ")  # .set_index('hh_id')"
   ]
  },
  {
   "cell_type": "code",
   "execution_count": null,
   "id": "9a5d5e0c-eb13-4ecc-bc5a-367c87f978e8",
   "metadata": {
    "tags": []
   },
   "outputs": [],
   "source": [
    "test.to_parquet(f\"{INNDATA_PATH}/testsett_p{gen}_{versjon}\")"
   ]
  },
  {
   "cell_type": "code",
   "execution_count": null,
   "id": "84bdde25-8705-4063-8b58-6c51f3a7c7c6",
   "metadata": {
    "tags": []
   },
   "outputs": [],
   "source": [
    "import dapla as dp\n",
    "\n",
    "df_alle_partisjoner = dp.read_pandas(f\"{INNDATA_PATH}/testsett_p{gen}_{versjon}\")"
   ]
  },
  {
   "cell_type": "code",
   "execution_count": null,
   "id": "704f57fe-c94a-440d-8990-c28c9db2c7b6",
   "metadata": {
    "tags": []
   },
   "outputs": [],
   "source": [
    "df_alle_partisjoner.head()"
   ]
  },
  {
   "cell_type": "code",
   "execution_count": null,
   "id": "d8126662-e5e8-47c8-bb99-5a96e3c30de7",
   "metadata": {},
   "outputs": [],
   "source": [
    "df_ps_default_indeks = ps.read_parquet(\n",
    "    f\"{KILDE_PATH}/personer_inntekt_p{gen}_{versjon}.parquet\"\n",
    ")"
   ]
  },
  {
   "cell_type": "code",
   "execution_count": null,
   "id": "c6d80668-633d-4b84-8dc1-47e615e253a4",
   "metadata": {},
   "outputs": [],
   "source": [
    "df_ps_default_indeks.head(2)"
   ]
  },
  {
   "cell_type": "code",
   "execution_count": null,
   "id": "514964b6-d2f3-4006-803e-811a68269c42",
   "metadata": {},
   "outputs": [],
   "source": [
    "df_ps_egen_indeks = ps.read_parquet(\n",
    "    f\"{KILDE_PATH}/personer_inntekt_p{gen}_{versjon}.parquet\"\n",
    ").set_index(\"hh_id\")"
   ]
  },
  {
   "cell_type": "code",
   "execution_count": null,
   "id": "3347de3e-e81e-405a-9f64-43ac496594ce",
   "metadata": {},
   "outputs": [],
   "source": [
    "df_ps_egen_indeks.head(10)  # tullete da den ikke er unik"
   ]
  },
  {
   "cell_type": "code",
   "execution_count": null,
   "id": "344a5b85-fc5c-4a7c-ac01-dfd9f56e3426",
   "metadata": {},
   "outputs": [],
   "source": [
    "# df.select(\"*\").write.format(\"parquet\").mode(\"overwrite\").save(\n",
    "#     f\"{INNDATA_PATH}/personer_inntekt1_p{gen}_{versjon}.parquet\"\n",
    "# )"
   ]
  },
  {
   "cell_type": "code",
   "execution_count": null,
   "id": "37a77a2b-d0a6-452b-8f5d-3048c42a71ae",
   "metadata": {},
   "outputs": [],
   "source": [
    "from pyspark.sql import SparkSession"
   ]
  },
  {
   "cell_type": "code",
   "execution_count": null,
   "id": "7fd7fd6d-8915-43fa-a244-046c9675ca0d",
   "metadata": {},
   "outputs": [],
   "source": [
    "spark.read.parquet(\n",
    "    f\"{INNDATA_PATH}/personer_inntekt2_p{gen}_{versjon}.parquet\"\n",
    ").createOrReplaceTempView(\"pers\")"
   ]
  },
  {
   "cell_type": "code",
   "execution_count": null,
   "id": "899d0aef-0211-4e5b-8729-0de8801024f2",
   "metadata": {},
   "outputs": [],
   "source": [
    "df1 = spark.sql(\n",
    "    \"\"\"\n",
    "    SELECT *\n",
    "    FROM\n",
    "        pers\n",
    "\"\"\"\n",
    ").to_pandas_on_spark()"
   ]
  },
  {
   "cell_type": "code",
   "execution_count": null,
   "id": "3f070111-b9d1-47b2-b38c-4f93acefc0fb",
   "metadata": {
    "jupyter": {
     "outputs_hidden": true
    },
    "tags": []
   },
   "outputs": [],
   "source": [
    "df1"
   ]
  }
 ],
 "metadata": {
  "language_info": {
   "codemirror_mode": {
    "name": "ipython"
   },
   "file_extension": ".py",
   "mimetype": "text/x-python",
   "name": "python",
   "nbconvert_exporter": "python"
  }
 },
 "nbformat": 4,
 "nbformat_minor": 5
}
